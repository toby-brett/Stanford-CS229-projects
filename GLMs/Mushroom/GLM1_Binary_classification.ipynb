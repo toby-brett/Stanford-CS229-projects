{
  "nbformat": 4,
  "nbformat_minor": 0,
  "metadata": {
    "colab": {
      "provenance": [],
      "authorship_tag": "ABX9TyM2HOcQWEcJE1Qz4Ytm0LET",
      "include_colab_link": true
    },
    "kernelspec": {
      "name": "python3",
      "display_name": "Python 3"
    },
    "language_info": {
      "name": "python"
    }
  },
  "cells": [
    {
      "cell_type": "markdown",
      "metadata": {
        "id": "view-in-github",
        "colab_type": "text"
      },
      "source": [
        "<a href=\"https://colab.research.google.com/github/toby-brett/Stanford-CS229-projects/blob/main/GLM1_Binary_classification.ipynb\" target=\"_parent\"><img src=\"https://colab.research.google.com/assets/colab-badge.svg\" alt=\"Open In Colab\"/></a>"
      ]
    },
    {
      "cell_type": "code",
      "execution_count": 197,
      "metadata": {
        "colab": {
          "base_uri": "https://localhost:8080/"
        },
        "id": "-Di9kfOkT-vH",
        "outputId": "f1d67d9b-d9eb-4a3b-89f0-74f95ddcec3e"
      },
      "outputs": [
        {
          "output_type": "stream",
          "name": "stdout",
          "text": [
            "Drive already mounted at /content/drive; to attempt to forcibly remount, call drive.mount(\"/content/drive\", force_remount=True).\n",
            "   p  x  s  n  t p.1  f  c n.1  k  ... s.2  w w.1 p.2 w.2  o p.3 k.1 s.3  u\n",
            "0  e  x  s  y  t   a  f  c   b  k  ...   s  w   w   p   w  o   p   n   n  g\n",
            "1  e  b  s  w  t   l  f  c   b  n  ...   s  w   w   p   w  o   p   n   n  m\n",
            "2  p  x  y  w  t   p  f  c   n  n  ...   s  w   w   p   w  o   p   k   s  u\n",
            "3  e  x  s  g  f   n  f  w   b  k  ...   s  w   w   p   w  o   e   n   a  g\n",
            "4  e  x  y  y  t   a  f  c   b  n  ...   s  w   w   p   w  o   p   k   n  g\n",
            "\n",
            "[5 rows x 23 columns]\n"
          ]
        }
      ],
      "source": [
        "from google.colab import drive\n",
        "import pandas as pd\n",
        "drive.mount('/content/drive')\n",
        "\n",
        "data = pd.read_csv('/content/drive/My Drive/mushroom/agaricus-lepiota.data').head(8123)\n",
        "test = pd.read_csv('/content/drive/My Drive/mushroom/agaricus-lepiota.data').head(8123)\n",
        "print(data.head())\n",
        "\n",
        "# poisonous\tTarget\t\t\t\t      poisionus=p, not=e\n",
        "\n",
        "# cap-shape\t\t\t                bell=b,conical=c,convex=x,flat=f, knobbed=k,sunken=s\n",
        "# cap-surface\t\t\t              fibrous=f,grooves=g,scaly=y,smooth=s\n",
        "# cap-color\t\t\t                brown=n,buff=b,cinnamon=c,gray=g,green=r, pink=p,purple=u,red=e,white=w,yellow=y\n",
        "# bruises\t\t\t                  bruises=t,no=f\n",
        "# odor\t\t\t                    almond=a,anise=l,creosote=c,fishy=y,foul=f, musty=m,none=n,pungent=p,spicy=s\n",
        "# gill-attachment\t\t\t          attached=a,descending=d,free=f,notched=n\n",
        "# gill-spacing\t\t\t            close=c,crowded=w,distant=d\n",
        "# gill-size\t\t\t                broad=b,narrow=n\n",
        "# gill-color\t\t\t              black=k,brown=n,buff=b,chocolate=h,gray=g, green=r,orange=o,pink=p,purple=u,red=e, white=w,yellow=y\t\tno\n",
        "# stalk-shape\t\t\t              enlarging=e,tapering=t\n",
        "# stalk-root\t\t\t              bulbous=b,club=c,cup=u,equal=e, rhizomorphs=z,rooted=r,missing=?\n",
        "# stalk-surface-above-ring\t\t\tfibrous=f,scaly=y,silky=k,smooth=s\n",
        "# stalk-surface-below-ring\t\t\tfibrous=f,scaly=y,silky=k,smooth=s\n",
        "# stalk-color-above-ring\t\t\t  brown=n,buff=b,cinnamon=c,gray=g,orange=o, pink=p,red=e,white=w,yellow=y\n",
        "# stalk-color-below-ring\t\t\t  brown=n,buff=b,cinnamon=c,gray=g,orange=o, pink=p,red=e,white=w,yellow=y\n",
        "# veil-type\t\t\t                partial=p,universal=u\n",
        "# veil-color\t\t\t              brown=n,orange=o,white=w,yellow=y\n",
        "# ring-number\t\t\t              none=n,one=o,two=t\n",
        "# ring-type\t\t\t                cobwebby=c,evanescent=e,flaring=f,large=l, none=n,pendant=p,sheathing=s,zone=z\n",
        "# spore-print-color\t\t\t        black=k,brown=n,buff=b,chocolate=h,green=r, orange=o,purple=u,white=w,yellow=y\n",
        "# population\t\t\t              abundant=a,clustered=c,numerous=n, scattered=s,several=v,solitary=y\n",
        "# habitat\t\t\t                  grasses=g,leaves=l,meadows=m,paths=p,urban=u,waste=w,woods=d¢"
      ]
    },
    {
      "cell_type": "code",
      "source": [
        "data_encoded = pd.get_dummies(data)\n",
        "test_data_encoded = pd.get_dummies(test)\n",
        "\n",
        "data_encoded = data_encoded.astype(int)\n",
        "test_data_encoded = test_data_encoded.astype(int)\n",
        "\n",
        "y_train_df = data_encoded.iloc[:, 2] # uses p_p as target, 1=poison, 0=benign\n",
        "X_train_df = data_encoded.iloc[:, 2:]\n",
        "\n",
        "y_test_df = test_data_encoded.iloc[:, 2]\n",
        "X_test_df = test_data_encoded.iloc[:, 2:]\n",
        "\n",
        "print(y_train_df.head()) # gets the p_e = 0 if benign and p_p = 1 if poision. For all datatypes"
      ],
      "metadata": {
        "colab": {
          "base_uri": "https://localhost:8080/"
        },
        "id": "XL7th3NCaTS4",
        "outputId": "657e6afc-370b-4daf-dc53-6740d5ea9c22"
      },
      "execution_count": 199,
      "outputs": [
        {
          "output_type": "stream",
          "name": "stdout",
          "text": [
            "0    0\n",
            "1    1\n",
            "2    0\n",
            "3    0\n",
            "4    0\n",
            "Name: x_b, dtype: int64\n"
          ]
        }
      ]
    },
    {
      "cell_type": "code",
      "source": [
        "import numpy as np\n",
        "\n",
        "X_train = np.array(X_train_df)[0:8000, :]\n",
        "y_train = np.array(y_train_df)[0:8000]\n",
        "\n",
        "X_test = np.array(X_test_df)[8000:8123, :]\n",
        "y_test = np.array(y_test_df)[8000:8123]\n",
        "\n",
        "print(X_train.shape)\n",
        "print(X_test.shape)"
      ],
      "metadata": {
        "colab": {
          "base_uri": "https://localhost:8080/"
        },
        "id": "zcDpFkQSY7YZ",
        "outputId": "70f4e58a-c5b6-42cd-ef88-9a83c92da907"
      },
      "execution_count": 200,
      "outputs": [
        {
          "output_type": "stream",
          "name": "stdout",
          "text": [
            "(8000, 117)\n",
            "(123, 117)\n"
          ]
        }
      ]
    },
    {
      "cell_type": "code",
      "source": [
        "import math\n",
        "\n",
        "# create exp fam class\n",
        "\n",
        "class BernouliExpFam:\n",
        "  def __init__(self):\n",
        "    pass\n",
        "  def b(self, y): # base measure\n",
        "    return 1\n",
        "  def a(self, eta): # log partition function\n",
        "    return -math.log(1 + math.exp(eta))\n",
        "  def T(self, y): # sufficient statistic\n",
        "    return\n",
        "  def phi(self, eta):\n",
        "    return 1 / (1 + math.exp(-eta))"
      ],
      "metadata": {
        "id": "2OskKBtJeKxc"
      },
      "execution_count": 201,
      "outputs": []
    },
    {
      "cell_type": "code",
      "source": [
        "# create the GLM\n",
        "\n",
        "exp_family = BernouliExpFam()\n",
        "\n",
        "class GLM:\n",
        "  def __init__(self):\n",
        "    self.alpha = 0.01\n",
        "    self.theta = np.zeros((1, 117)) # already transposed\n",
        "\n",
        "  def forward(self, x):\n",
        "    self.eta = self.theta @ x\n",
        "    self.pred = exp_family.phi(self.eta) # takes mean (which is phi and also logistic function)\n",
        "    return self.pred\n",
        "\n",
        "  def update(self, x, y):\n",
        "    self.theta = self.theta + self.alpha * (y - self.forward(x)) * x # update rule (check notes)\n",
        ""
      ],
      "metadata": {
        "id": "dbOi2AAPdi-d"
      },
      "execution_count": 202,
      "outputs": []
    },
    {
      "cell_type": "code",
      "source": [
        "model = GLM()\n",
        "\n",
        "for example, label in zip(X_train, y_train):\n",
        "  model.update(example, label)\n"
      ],
      "metadata": {
        "colab": {
          "base_uri": "https://localhost:8080/"
        },
        "id": "-55naCIchlZ3",
        "outputId": "0f328a73-b1fa-4749-8d92-b44b618d7c82"
      },
      "execution_count": 203,
      "outputs": [
        {
          "output_type": "stream",
          "name": "stderr",
          "text": [
            "<ipython-input-201-72932add8d96>:15: DeprecationWarning: Conversion of an array with ndim > 0 to a scalar is deprecated, and will error in future. Ensure you extract a single element from your array before performing this operation. (Deprecated NumPy 1.25.)\n",
            "  return 1 / (1 + math.exp(-eta))\n"
          ]
        }
      ]
    },
    {
      "cell_type": "code",
      "source": [
        "correct = 0\n",
        "\n",
        "for example, label in zip(X_test, y_test):\n",
        "  if round(model.forward(example)) == label:\n",
        "    correct +=1\n",
        "\n",
        "print(correct/123) # every test example correct holy moly"
      ],
      "metadata": {
        "colab": {
          "base_uri": "https://localhost:8080/"
        },
        "id": "3CyiUEjXr8ju",
        "outputId": "d8304402-8858-4be7-af2a-9178e0582361"
      },
      "execution_count": 204,
      "outputs": [
        {
          "output_type": "stream",
          "name": "stdout",
          "text": [
            "1.0\n"
          ]
        },
        {
          "output_type": "stream",
          "name": "stderr",
          "text": [
            "<ipython-input-201-72932add8d96>:15: DeprecationWarning: Conversion of an array with ndim > 0 to a scalar is deprecated, and will error in future. Ensure you extract a single element from your array before performing this operation. (Deprecated NumPy 1.25.)\n",
            "  return 1 / (1 + math.exp(-eta))\n"
          ]
        }
      ]
    }
  ]
}
