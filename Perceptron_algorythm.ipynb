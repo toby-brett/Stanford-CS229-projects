{
  "nbformat": 4,
  "nbformat_minor": 0,
  "metadata": {
    "colab": {
      "provenance": [],
      "authorship_tag": "ABX9TyOVzbQAzekgB6Uko2yX/tCv",
      "include_colab_link": true
    },
    "kernelspec": {
      "name": "python3",
      "display_name": "Python 3"
    },
    "language_info": {
      "name": "python"
    }
  },
  "cells": [
    {
      "cell_type": "markdown",
      "metadata": {
        "id": "view-in-github",
        "colab_type": "text"
      },
      "source": [
        "<a href=\"https://colab.research.google.com/github/toby-brett/Stanford-CS229-projects/blob/main/Perceptron_algorythm.ipynb\" target=\"_parent\"><img src=\"https://colab.research.google.com/assets/colab-badge.svg\" alt=\"Open In Colab\"/></a>"
      ]
    },
    {
      "cell_type": "code",
      "execution_count": null,
      "metadata": {
        "colab": {
          "base_uri": "https://localhost:8080/"
        },
        "id": "iW9HxkM16LGn",
        "outputId": "13265bf9-467a-4f3d-c674-7a58f1c17b5d"
      },
      "outputs": [
        {
          "output_type": "stream",
          "name": "stdout",
          "text": [
            "(166, 60)\n"
          ]
        }
      ],
      "source": [
        "import pandas as pd\n",
        "from sklearn.model_selection import train_test_split\n",
        "from sklearn.preprocessing import LabelEncoder\n",
        "import numpy as np\n",
        "\n",
        "url = \"https://archive.ics.uci.edu/ml/machine-learning-databases/undocumented/connectionist-bench/sonar/sonar.all-data\"\n",
        "\n",
        "df = pd.read_csv(url, header=None)\n",
        "\n",
        "X = df.iloc[:, :-1].to_numpy() # firsrt 60 columns are features\n",
        "y = df.iloc[:, -1].to_numpy() # last column is label R or M\n",
        "\n",
        "y = LabelEncoder().fit_transform(y) # 0 = rock, 1 = mine\n",
        "\n",
        "X_train, X_test, y_train, y_test = train_test_split(X, y, test_size=0.2, random_state=42)\n",
        "\n",
        "print(X_train.shape) # [[feat. 1, feat. 2, feat. 3 .... feat. 60], [example2], [example3], ... [example 166]]\n"
      ]
    },
    {
      "cell_type": "code",
      "source": [
        "def g(x): # determines 1 or 0 (no sigmoid used)\n",
        "  return 0 if x < 0 else 1"
      ],
      "metadata": {
        "id": "qFPgxAxW7hme"
      },
      "execution_count": null,
      "outputs": []
    },
    {
      "cell_type": "code",
      "source": [
        "class model:\n",
        "  def __init__(self):\n",
        "    self.lr = 0.0001 # small learn rate for precise vector updates\n",
        "    self.theta = np.random.rand(60 + 1) # 1 is the intercept term\n",
        "\n",
        "  def step(self, x, target): # where x is a training example\n",
        "    self.x = np.insert(x, 0, 1, axis=0) # adds the bias term\n",
        "    self.logit = np.dot(self.theta, self.x)\n",
        "    self.output = g(self.logit)\n",
        "\n",
        "    self.theta = self.theta + self.lr * (target - self.output) * self.x\n",
        "\n",
        "  def predict(self, x):\n",
        "    self.x = np.insert(x, 0, 1, axis=0) # adds the bias term\n",
        "    return g(np.dot(self.theta, self.x))"
      ],
      "metadata": {
        "id": "z9mM1_Yp7x47"
      },
      "execution_count": null,
      "outputs": []
    },
    {
      "cell_type": "code",
      "source": [
        "Mod = model()\n",
        "\n",
        "for i in range(10000): # many epochs due to small learn rate for prescision\n",
        "  for example, target in zip(X_train, y_train):\n",
        "    Mod.step(example, target)"
      ],
      "metadata": {
        "id": "8kjcIaDZ9dCS"
      },
      "execution_count": null,
      "outputs": []
    },
    {
      "cell_type": "code",
      "source": [
        "correct = 0\n",
        "tested = 42\n",
        "\n",
        "for i in range(tested):\n",
        "  print(Mod.predict(X_test[i]), y_test[i])\n",
        "  if Mod.predict(X_test[i]) == y_test[i]:\n",
        "    correct += 1\n",
        "\n",
        "print(correct / tested)"
      ],
      "metadata": {
        "colab": {
          "base_uri": "https://localhost:8080/"
        },
        "id": "2yNC3KJ49xla",
        "outputId": "dc9c5b95-b3c1-4f8d-961a-bc74591b2567"
      },
      "execution_count": null,
      "outputs": [
        {
          "output_type": "stream",
          "name": "stdout",
          "text": [
            "0 0\n",
            "1 1\n",
            "0 1\n",
            "1 1\n",
            "1 0\n",
            "0 1\n",
            "0 0\n",
            "0 0\n",
            "1 1\n",
            "0 0\n",
            "0 0\n",
            "1 1\n",
            "0 0\n",
            "0 0\n",
            "1 0\n",
            "0 0\n",
            "0 0\n",
            "0 0\n",
            "1 1\n",
            "1 1\n",
            "0 0\n",
            "0 0\n",
            "1 0\n",
            "1 0\n",
            "1 1\n",
            "1 1\n",
            "1 1\n",
            "1 1\n",
            "0 0\n",
            "0 0\n",
            "0 0\n",
            "1 1\n",
            "1 1\n",
            "0 0\n",
            "0 0\n",
            "1 0\n",
            "1 0\n",
            "0 0\n",
            "1 1\n",
            "1 0\n",
            "1 1\n",
            "1 0\n",
            "0.7619047619047619\n"
          ]
        }
      ]
    }
  ]
}